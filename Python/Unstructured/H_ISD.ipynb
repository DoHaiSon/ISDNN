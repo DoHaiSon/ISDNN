{
 "cells": [
  {
   "cell_type": "markdown",
   "metadata": {
    "id": "uSmcwLZuptDU"
   },
   "source": [
    "# Proposed Model"
   ]
  },
  {
   "cell_type": "markdown",
   "metadata": {
    "id": "MG5fZn_ypunP"
   },
   "source": [
    "# **Biblioheque**"
   ]
  },
  {
   "cell_type": "code",
   "execution_count": null,
   "metadata": {
    "id": "--SvzvIspu-U"
   },
   "outputs": [],
   "source": [
    "import random\n",
    "import numpy as np\n",
    "from scipy.stats import rice\n",
    "# import pandas as pd\n",
    "import torch\n",
    "import torch.nn as nn\n",
    "from torch.nn import functional as F\n",
    "import sys\n",
    "import timeit\n",
    "import os\n",
    "\n",
    "# torch.set_default_tensor_type(torch.cuda.DoubleTensor)\n",
    "torch.set_default_dtype(torch.float64)"
   ]
  },
  {
   "cell_type": "markdown",
   "metadata": {
    "id": "aBk01Vu0pvMm"
   },
   "source": [
    "# class to save results in file"
   ]
  },
  {
   "cell_type": "code",
   "execution_count": null,
   "metadata": {
    "id": "06IymVCkpvYS"
   },
   "outputs": [],
   "source": [
    "class Record:\n",
    "    def __init__(self, TextName):\n",
    "        self.out_file = open(TextName, 'a')\n",
    "        self.old_stdout = sys.stdout\n",
    "        sys.stdout = self\n",
    "\n",
    "    def write(self, text):\n",
    "        self.old_stdout.write(text)\n",
    "        self.out_file.write(text)\n",
    "\n",
    "    def __enter__(self):\n",
    "        return self\n",
    "\n",
    "    def __exit__(self, exc_type, exc_val, exc_tb):\n",
    "        sys.stdout = self.old_stdout"
   ]
  },
  {
   "cell_type": "markdown",
   "metadata": {
    "id": "-xPamGjNpv8E"
   },
   "source": [
    "# **slicer the data**"
   ]
  },
  {
   "cell_type": "code",
   "execution_count": null,
   "metadata": {
    "id": "dlQdA0xHpwF7"
   },
   "outputs": [],
   "source": [
    "def slicer(data):\n",
    "    dataI = data[slice(0, len(data), 2)]\n",
    "    dataQ = data[slice(1, len(data), 2)]\n",
    "    return(dataI, dataQ)"
   ]
  },
  {
   "cell_type": "markdown",
   "metadata": {
    "id": "aOoiIo_LpwQl"
   },
   "source": [
    "# **Modulation**"
   ]
  },
  {
   "cell_type": "code",
   "execution_count": null,
   "metadata": {
    "id": "xIftC8fvpwir"
   },
   "outputs": [],
   "source": [
    "def mapper_16QAM(QAM16, data):\n",
    "    map0 = 2*data[slice(0, len(data), 2)] + data[slice(1, len(data), 2)]\n",
    "    map0 = list(map(int, map0))\n",
    "    dataMapped = []\n",
    "    for i in range(len(map0)):\n",
    "        dataMapped.append(QAM16[map0[i]])\n",
    "    return(dataMapped)"
   ]
  },
  {
   "cell_type": "code",
   "execution_count": null,
   "metadata": {
    "id": "AYhPgAIcqtGT"
   },
   "outputs": [],
   "source": [
    "def calculate_bits(Modulation,NumSubcarriers,NumDataSymb):\n",
    "    if Modulation=='QPSK':\n",
    "        Nbpscs=2\n",
    "    elif Modulation=='16QAM':\n",
    "        Nbpscs=4\n",
    "    return NumDataSymb*NumSubcarriers*Nbpscs\n"
   ]
  },
  {
   "cell_type": "markdown",
   "metadata": {
    "id": "YgX6tiqFpwvb"
   },
   "source": [
    "# **generate noise**"
   ]
  },
  {
   "cell_type": "code",
   "execution_count": null,
   "metadata": {
    "id": "2LQwZvGaprKZ"
   },
   "outputs": [],
   "source": [
    "def AWGN(IFsig, SNR):\n",
    "    dP = np.zeros(len(IFsig))\n",
    "    P = 0\n",
    "\n",
    "    for i in range(len(IFsig)):\n",
    "        dP[i] = abs(IFsig[i])**2\n",
    "        P = P + dP[i]\n",
    "\n",
    "    P = P/len(IFsig)\n",
    "    gamma = 10**(SNR/10)\n",
    "    N0 = P/gamma\n",
    "    n = ((N0/2)**(0.5))*np.random.standard_normal(len(IFsig))\n",
    "    IF_n = np.zeros((len(IFsig),1))\n",
    "\n",
    "    for i in range(len(IFsig)):\n",
    "        IF_n[i,:] = IFsig[i] + n[i]\n",
    "\n",
    "    return(IF_n)"
   ]
  },
  {
   "cell_type": "markdown",
   "metadata": {},
   "source": [
    "# Generate channel model"
   ]
  },
  {
   "cell_type": "code",
   "execution_count": null,
   "metadata": {},
   "outputs": [],
   "source": [
    "def Generate_channel(Nr, Nt, type):\n",
    "    if (type == 'gauss'):\n",
    "        return (np.random.normal(size=(Nr,Nt))+1j*np.random.normal(size=(Nr,Nt)))/np.sqrt(2)\n",
    "    if (type == 'rayleigh'):\n",
    "        return (np.random.rayleigh(scale=(1/np.sqrt(2)), size=(Nr,Nt)) + 1j*np.random.rayleigh(scale=(1/np.sqrt(2)), size=(Nr,Nt)))/np.sqrt(2)\n",
    "    if (type == 'rician'):\n",
    "        b = 1/np.sqrt(2)\n",
    "        return (rice.rvs(b, size=(Nr,Nt)) + 1j*rice.rvs(b, size=(Nr,Nt)))/np.sqrt(2)"
   ]
  },
  {
   "cell_type": "markdown",
   "metadata": {
    "id": "eciNtnFjq2yd"
   },
   "source": [
    "# **Generate Dataset**\n",
    "\n"
   ]
  },
  {
   "cell_type": "code",
   "execution_count": null,
   "metadata": {
    "id": "AE4Q6jZCq3CY"
   },
   "outputs": [],
   "source": [
    "DataSet_x   = []  # x dataset after modulation\n",
    "DataSet_y   = []  # y dataset\n",
    "DataSet_HH  = []  # H dataset\n",
    "DataSet_b   = []  # binary dataset\n",
    "SNR_min_dB  = 0\n",
    "SNR_max_dB  = 20\n",
    "step_dB     = 5\n",
    "num_dB      = int((SNR_max_dB - SNR_min_dB) / step_dB) + 1\n",
    "\n",
    "SNR         = np.linspace(SNR_min_dB, SNR_max_dB, num=num_dB)\n",
    "\n",
    "\n",
    "Nt = 8             # Tx: 8\n",
    "Nr = 64            # Rx: 128\n",
    "N_samp = 100\n",
    "\n",
    "\n",
    "def Gen_dataset(mode, snr, imperfect, N_samp):    \n",
    "    DataSet_x   = []  # x dataset after modulation\n",
    "    DataSet_y   = []  # y dataset\n",
    "    DataSet_H   = []  \n",
    "    DataSet_HH  = []\n",
    "\n",
    "    NumSubcarriers = 1\n",
    "    Modulation = '16QAM'\n",
    "    QAM16 = [-1, -0.333, 0.333, 1]\n",
    "    NumDataSymb = 1\n",
    "    N_type = 'gauss'\n",
    "\n",
    "    if mode == 'train':\n",
    "        for snr in SNR:\n",
    "            for runIdx in range(0, N_samp):      # ! 20000 x Nt: samples\n",
    "                H = Generate_channel(Nr, Nt, N_type)\n",
    "                HH = np.concatenate((np.concatenate((H.real, -H.imag), axis=1),\n",
    "                                    np.concatenate((H.imag, H.real), axis=1)), axis=0)\n",
    "                x = np.zeros((2*Nt, NumSubcarriers))\n",
    "                a = calculate_bits(Modulation, NumSubcarriers, NumDataSymb)\n",
    "                DataRaw = np.zeros((Nt, a))\n",
    "                for t in range(Nt):\n",
    "                    #\"data symbol generate\"\n",
    "                    NumBits = calculate_bits(Modulation, NumSubcarriers, NumDataSymb)\n",
    "                    bit = np.random.randint(1, 3, NumBits)-1\n",
    "                    DataRaw[t, :] = bit\n",
    "                    for j in range(4):\n",
    "                        DataSet_b.append(bit[j])\n",
    "                    I = np.zeros((1, a))\n",
    "                    I[0, :] = DataRaw[t, :]\n",
    "                    (dataI, dataQ) = slicer(I[0])\n",
    "\n",
    "                    # Mapper\n",
    "                    mapI = mapper_16QAM(QAM16, dataI)\n",
    "                    mapQ = mapper_16QAM(QAM16, dataQ)\n",
    "                    x[t] = mapI[0]\n",
    "                    x[t+Nt] = mapQ[0]\n",
    "\n",
    "                # transpose\n",
    "                H = H.transpose()\n",
    "                HH = HH.transpose()\n",
    "                x = x.transpose()\n",
    "\n",
    "                y_wo_noise = np.matmul(x, HH)\n",
    "\n",
    "                # noise\n",
    "                noise = AWGN(y_wo_noise.transpose(), snr)\n",
    "\n",
    "                y = y_wo_noise + noise.transpose()\n",
    "\n",
    "                DataSet_x.append(x)    # ! I, Q sample distance by Nt.\n",
    "                DataSet_y.append(y)                 # ! output sample\n",
    "                \n",
    "                # Imperfect channel: 5%\n",
    "                # coef = (2*np.random.randint(0,2,size=HH.shape) - 1)\n",
    "                # HH = HH + coef * HH * 0.05\n",
    "                DataSet_HH.append(HH)\n",
    "                DataSet_H.append(H)               # ! Generated channel\n",
    "                \n",
    "    else:\n",
    "        for runIdx in range(0, N_samp):      # ! 20000 x Nt: samples\n",
    "            H = Generate_channel(Nr, Nt, N_type)\n",
    "            HH = np.concatenate((np.concatenate((H.real, -H.imag), axis=1),\n",
    "                                np.concatenate((H.imag, H.real), axis=1)), axis=0)\n",
    "            x = np.zeros((2*Nt, NumSubcarriers))\n",
    "            a = calculate_bits(Modulation, NumSubcarriers, NumDataSymb)\n",
    "            DataRaw = np.zeros((Nt, a))\n",
    "            for t in range(Nt):\n",
    "                #\"data symbol generate\"\n",
    "                NumBits = calculate_bits(Modulation, NumSubcarriers, NumDataSymb)\n",
    "                bit = np.random.randint(1, 3, NumBits)-1\n",
    "                DataRaw[t, :] = bit\n",
    "                for j in range(4):\n",
    "                    DataSet_b.append(bit[j])\n",
    "                I = np.zeros((1, a))\n",
    "                I[0, :] = DataRaw[t, :]\n",
    "                (dataI, dataQ) = slicer(I[0])\n",
    "\n",
    "                # Mapper\n",
    "                mapI = mapper_16QAM(QAM16, dataI)\n",
    "                mapQ = mapper_16QAM(QAM16, dataQ)\n",
    "                x[t] = mapI[0]\n",
    "                x[t+Nt] = mapQ[0]\n",
    "\n",
    "            # transpose\n",
    "            H = H.transpose()\n",
    "            HH = HH.transpose()\n",
    "            x = x.transpose()\n",
    "\n",
    "            y_wo_noise = np.matmul(x, HH)\n",
    "\n",
    "            # noise\n",
    "            noise = AWGN(y_wo_noise.transpose(), snr)\n",
    "\n",
    "            y = y_wo_noise + noise.transpose()\n",
    "\n",
    "            DataSet_x.append(x)    # ! I, Q sample distance by Nt.\n",
    "            DataSet_y.append(y)                 # ! output sample\n",
    "            \n",
    "            # Imperfect channel: 5%\n",
    "\n",
    "            DataSet_HH.append(HH)\n",
    "            DataSet_H.append(H)               # ! Generated channel\n",
    "\n",
    "\n",
    "    # Shuffle dataset\n",
    "    random.seed(1)\n",
    "    temp = list(zip(DataSet_x, DataSet_y, DataSet_H, DataSet_HH))\n",
    "    random.shuffle(temp)\n",
    "    DataSet_x, DataSet_y, DataSet_H, DataSet_HH = zip(*temp)\n",
    "\n",
    "    return DataSet_x, DataSet_y, DataSet_H, DataSet_HH"
   ]
  },
  {
   "cell_type": "code",
   "execution_count": null,
   "metadata": {},
   "outputs": [],
   "source": [
    "def reconstruct_channel (H):\n",
    "# H_raw = [R(H) I(H); -I(H) R(H)]\n",
    "    H_est = []\n",
    "    H_est_Re = H[0:Nt, 0:Nr]\n",
    "    H_est_Im = H[Nt:2*Nt, 0:Nr]\n",
    "    H_est = H_est_Re + 1j * H_est_Im\n",
    "    return H_est"
   ]
  },
  {
   "cell_type": "code",
   "execution_count": null,
   "metadata": {},
   "outputs": [],
   "source": [
    "def NMSE(H_est, H_raw):\n",
    "    H_est = reconstruct_channel(H_est)\n",
    "\n",
    "    H_raw_vec = torch.reshape(H_raw, [Nt * Nr, 1])\n",
    "    H_est_vec = torch.reshape(H_est, [Nt * Nr, 1])\n",
    "\n",
    "    mse       = (torch.norm(H_raw_vec - H_est_vec)**2) / len(H_raw_vec)\n",
    "    sigEner   = torch.norm(H_raw_vec)**2\n",
    "    nmse      = mse / sigEner\n",
    "    # E = H_raw - H_est\n",
    "    \n",
    "    # # Tính tổng các bình phương của sự khác biệt\n",
    "    # sum_squares_E = torch.sum(E * torch.conj(E))\n",
    "    \n",
    "    # # Tính tổng các bình phương của các phần tử của ma trận H\n",
    "    # sum_squares_H = torch.sum(H_raw * torch.conj(H_raw))\n",
    "    \n",
    "    # # Tính NMSE\n",
    "    # nmse = sum_squares_E / sum_squares_H\n",
    "\n",
    "    return torch.abs(nmse)"
   ]
  },
  {
   "cell_type": "code",
   "execution_count": null,
   "metadata": {
    "id": "pyjIgxUurU0P"
   },
   "outputs": [],
   "source": [
    "def Input_ISDNN(mode, DataSet_x, DataSet_y, DataSet_H, DataSet_HH, N_samp):\n",
    "    H_in = []        # ! H_in    , np.diag(np.diag()) return a diag matrix instead of diag components.\n",
    "    H_true = []   # ! generated s\n",
    "    H_raw = []\n",
    "    e = []        # ! vector errors\n",
    "    xTx = []\n",
    "    xTy = []\n",
    "    Di = []\n",
    "    # steering = [] # ! Steering vector: ZoA and AoA\n",
    "\n",
    "    if mode == 'train':\n",
    "        n_sample = N_samp * len(SNR)\n",
    "    else:\n",
    "        n_sample = N_samp\n",
    "        \n",
    "    for i in range (n_sample):\n",
    "        H_true.append(torch.tensor(DataSet_HH[i]))\n",
    "        H_raw.append(torch.tensor(DataSet_H[i]))\n",
    "        Di.append(torch.tensor(np.linalg.pinv(np.diag(np.diag(np.dot(DataSet_x[i].transpose(), DataSet_x[i]))))))\n",
    "        xTy.append(torch.tensor(np.dot(DataSet_x[i].transpose(), DataSet_y[i])))\n",
    "        H_in.append(torch.matmul(Di[i], xTy[i]))\n",
    "        e.append(torch.rand([2*Nt, 2*Nr]))\n",
    "        xTx.append(torch.tensor(np.dot(DataSet_x[i].transpose(), DataSet_x[i])))\n",
    "        # steering.append(torch.tensor(DataSet_Steering[i]))\n",
    "\n",
    "    H_true = torch.stack(H_true, dim=0)\n",
    "    H_raw = torch.stack(H_raw, dim=0)\n",
    "    H_in = torch.stack(H_in, dim=0)\n",
    "    e = torch.stack(e, dim=0)\n",
    "    xTx = torch.stack(xTx, dim=0)\n",
    "    xTy = torch.stack(xTy, dim=0)\n",
    "    Di = torch.stack(Di, dim=0)\n",
    "    # steering = torch.stack(steering, dim=0)\n",
    "\n",
    "    return H_true, H_raw, H_in, e, xTx, xTy, Di"
   ]
  },
  {
   "cell_type": "markdown",
   "metadata": {
    "id": "iGhdBsghq3M9"
   },
   "source": [
    "# Model"
   ]
  },
  {
   "cell_type": "code",
   "execution_count": null,
   "metadata": {
    "id": "GHceh5kuq3ZD"
   },
   "outputs": [],
   "source": [
    "class xv(nn.Module):\n",
    "    def __init__(self):\n",
    "        super(xv, self).__init__()\n",
    "\n",
    "        self.alpha1 = torch.nn.parameter.Parameter(torch.rand(1))\n",
    "        self.alpha2 = torch.nn.parameter.Parameter(torch.tensor([0.5]))\n",
    "\n",
    "    def forward(self, Di, H, e, xTx, xTy):\n",
    "\n",
    "        xTxH = torch.bmm(xTx, H)\n",
    "\n",
    "        z    = H + torch.bmm(Di, torch.sub(xTy, xTxH)) + self.alpha1 * e\n",
    "\n",
    "        e    = torch.sub(xTy, xTxH)\n",
    "\n",
    "        H    = torch.add((1 - self.alpha2) * z, self.alpha2 * H)\n",
    "\n",
    "        return H, e"
   ]
  },
  {
   "cell_type": "code",
   "execution_count": null,
   "metadata": {
    "id": "woRjD7lJssRq"
   },
   "outputs": [],
   "source": [
    "class model_driven(nn.Module):\n",
    "    def __init__(self):\n",
    "        super(model_driven, self).__init__()\n",
    "        self.fc1 = torch.nn.Linear(2*Nr, 2*Nr)\n",
    "        self.fc2 = torch.nn.Linear(2*Nr, 2*Nr)\n",
    "        self.fc3 = torch.nn.Linear(2*Nr, 2*Nr)\n",
    "        self.fc4 = torch.nn.Linear(2*Nr, 2*Nr)\n",
    "        self.fc5 = torch.nn.Linear(2*Nr, 2*Nr)\n",
    "        self.fc6 = torch.nn.Linear(2*Nr, 2*Nr)\n",
    "        self.fc7 = torch.nn.Linear(2*Nr, 2*Nr)\n",
    "        self.fc8 = torch.nn.Linear(2*Nr, 2*Nr)\n",
    "\n",
    "        self.layer1=xv()\n",
    "        self.layer2=xv()\n",
    "        self.layer3=xv()\n",
    "        self.layer4=xv()\n",
    "    \n",
    "    def forward(self, Di, H_in, e, xTx, xTy):\n",
    "        e = self.fc1(e)\n",
    "        e = self.fc2(e)\n",
    "\n",
    "        H, e = self.layer1(Di, H_in, e, xTx, xTy)\n",
    "        H = torch.tanh(H)\n",
    "\n",
    "        e = self.fc3(e)\n",
    "        e = self.fc4(e)\n",
    "        H, e = self.layer2(Di, H, e, xTx, xTy)\n",
    "        H = torch.tanh(H)\n",
    "\n",
    "        e = self.fc5(e)\n",
    "        e = self.fc6(e)\n",
    "        H, e = self.layer3(Di, H, e, xTx, xTy)\n",
    "        H = torch.tanh(H)\n",
    "\n",
    "        e = self.fc7(e)\n",
    "        e = self.fc8(e)\n",
    "        H, e = self.layer4(Di, H, e, xTx, xTy)\n",
    "\n",
    "        return H, e"
   ]
  },
  {
   "cell_type": "markdown",
   "metadata": {
    "id": "4ZjihTOXq3kG"
   },
   "source": [
    "# Define model, optimizer, and loss function"
   ]
  },
  {
   "cell_type": "code",
   "execution_count": null,
   "metadata": {
    "id": "Vp9fRd3gq3tw"
   },
   "outputs": [],
   "source": [
    "def def_model():\n",
    "    model = model_driven()\n",
    "    loss = nn.MSELoss()\n",
    "    optimizer = torch.optim.Adam(model.parameters(), lr=0.0001)\n",
    "\n",
    "    folder_model = './model/'\n",
    "    \n",
    "    if not os.path.isdir(folder_model):\n",
    "        os.makedirs(folder_model)\n",
    "    \n",
    "    file_model = folder_model + 'H'\n",
    "    # if os.path.isfile(file_model):\n",
    "    #     generator = torch.load(file_model)\n",
    "\n",
    "    record_file = 'H'\n",
    "    return model, loss, optimizer, record_file, file_model"
   ]
  },
  {
   "cell_type": "markdown",
   "metadata": {
    "id": "zYWM7SzItKzS"
   },
   "source": [
    "# Main program"
   ]
  },
  {
   "cell_type": "code",
   "execution_count": null,
   "metadata": {
    "id": "jv7lDwyxtFe3"
   },
   "outputs": [],
   "source": [
    "epoch         = 0\n",
    "expected_epoch = 10000\n",
    "num_samp      = N_samp * len(SNR)\n",
    "best_nmse     = 1e9\n",
    "early_stop    = 0\n",
    "best_model    = ''\n",
    "\n",
    "DataSet_x, DataSet_y, DataSet_H, DataSet_HH = Gen_dataset('train', 0, 0, N_samp)\n",
    "H_true, H_raw, H_in, e, xTx, xTy, Di = Input_ISDNN('train', DataSet_x, DataSet_y, DataSet_H, DataSet_HH, N_samp)\n",
    "\n",
    "print(\"Begin training...\") \n",
    "\n",
    "while(True):\n",
    "        epoch = epoch + 1 \n",
    "\n",
    "        init_loss = 1e9\n",
    "        while( epoch == 1 and init_loss > 140):\n",
    "                \n",
    "                model, loss, optimizer, record_file, file_model = def_model()\n",
    "                \n",
    "                H_1, e_1 = model(Di, H_in, e, xTx, xTy)   # predict output from the model \n",
    "                init_loss = loss(H_1, H_true).item()\n",
    "                print(init_loss)\n",
    "\n",
    "        # optimizer.zero_grad()   # zero the parameter gradients\n",
    "        H_o, e_o = model(Di, H_in, e, xTx, xTy)   # predict output from the model \n",
    "        train_loss = loss(H_o, H_true)   # calculate loss for the predicted output  \n",
    "        train_loss.backward()   # backpropagate the loss \n",
    "        optimizer.step()        # adjust parameters based on the calculated gradients \n",
    "\n",
    "        if (epoch % 100 == 0 or epoch == 1):\n",
    "                nmse = 0\n",
    "                for j in range (num_samp):\n",
    "                        nmse += NMSE(H_o[j], H_raw[j])\n",
    "                nmse = nmse / num_samp\n",
    "                \n",
    "                if (nmse <= best_nmse):\n",
    "                        torch.save(model.state_dict(), file_model + '_' + str(epoch) + '.pth')\n",
    "                        best_model = file_model + '_' + str(epoch) + '.pth'\n",
    "                        best_nmse = nmse\n",
    "                        early_stop = 0\n",
    "                else:\n",
    "                        early_stop += 1\n",
    "\n",
    "                if (nmse > best_nmse and early_stop == 2):\n",
    "                        with Record(record_file + '_log.txt'):\n",
    "                                print(epoch, nmse.item(), train_loss.item()) \n",
    "                        break\n",
    "\n",
    "                with Record(record_file + '_log.txt'):\n",
    "                        print(epoch, nmse.item(), train_loss.item()) \n",
    "\n",
    "        if epoch  == expected_epoch:\n",
    "                torch.save(model.state_dict(), file_model + '_' + str(epoch) + '.pth')\n",
    "                best_model = file_model + '_' + str(epoch) + '.pth'\n",
    "                with Record(record_file + '_log.txt'):\n",
    "                        print(\"epoch:\\n\", epoch)\n",
    "                        print(\"Latest NMSE:\\n\", nmse.item())\n",
    "                        print(\"Latest Loss:\\n\", train_loss.item()) \n",
    "\n",
    "                break"
   ]
  },
  {
   "cell_type": "markdown",
   "metadata": {
    "id": "hOBK-_l-tRMO"
   },
   "source": [
    "# Test function"
   ]
  },
  {
   "cell_type": "markdown",
   "metadata": {
    "id": "cRRFGAX4tg_6"
   },
   "source": [
    "# Function to test the model"
   ]
  },
  {
   "cell_type": "code",
   "execution_count": null,
   "metadata": {
    "id": "SfvpexfwthNq"
   },
   "outputs": [],
   "source": [
    "def test(H_raw, Di, H_in, e, xTx, xTy, N_test, log): \n",
    "    # Load the model that we saved at the end of the training loop \n",
    "    model = model_driven()\n",
    "    model.load_state_dict(torch.load(best_model)) \n",
    "      \n",
    "    with torch.no_grad(): \n",
    "        H_o, e_o = model(Di, H_in, e, xTx, xTy)\n",
    "\n",
    "        nmse = 0\n",
    "        for j in range (N_test):\n",
    "                \n",
    "                nmse += NMSE(H_o[j], H_raw[j])\n",
    "\n",
    "        nmse = nmse / N_test\n",
    "        with Record(log):\n",
    "            print(format(nmse.item(), '.7f'))"
   ]
  },
  {
   "cell_type": "code",
   "execution_count": null,
   "metadata": {},
   "outputs": [],
   "source": [
    "## Generate dataset for test"
   ]
  },
  {
   "cell_type": "code",
   "execution_count": null,
   "metadata": {
    "scrolled": false
   },
   "outputs": [],
   "source": [
    "SNR_min_dB  = 0\n",
    "SNR_max_dB  = 20\n",
    "step_dB     = 5\n",
    "num_dB      = int((SNR_max_dB - SNR_min_dB) / step_dB) + 1\n",
    "\n",
    "SNR         = np.linspace(SNR_min_dB, SNR_max_dB, num=num_dB)\n",
    "log         = './model/log_test.txt'\n",
    "\n",
    "N_test = int(N_samp)\n",
    "\n",
    "for i in range (100):\n",
    "    for snr in SNR:\n",
    "        with Record(log):\n",
    "            print(snr)\n",
    "        DataSet_x, DataSet_y, DataSet_H, DataSet_HH = Gen_dataset('test', snr, 0, N_test)\n",
    "        H_true, H_raw, H_in, e, xTx, xTy, Di = Input_ISDNN('test', DataSet_x, DataSet_y, DataSet_H, DataSet_HH, N_test)\n",
    "        \n",
    "        test(H_raw, Di, H_in, e, xTx, xTy, N_test, log)"
   ]
  }
 ],
 "metadata": {
  "colab": {
   "provenance": []
  },
  "kernelspec": {
   "display_name": "Python 3 (ipykernel)",
   "language": "python",
   "name": "python3"
  },
  "language_info": {
   "codemirror_mode": {
    "name": "ipython",
    "version": 3
   },
   "file_extension": ".py",
   "mimetype": "text/x-python",
   "name": "python",
   "nbconvert_exporter": "python",
   "pygments_lexer": "ipython3",
   "version": "3.10.6"
  },
  "vscode": {
   "interpreter": {
    "hash": "b540dc7c34b7cf08e01b749cd784ab7b1f302abefb3330aee8479ab39c2f7339"
   }
  }
 },
 "nbformat": 4,
 "nbformat_minor": 1
}
